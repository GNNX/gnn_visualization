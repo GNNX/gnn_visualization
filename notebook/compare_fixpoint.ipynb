{
 "cells": [
  {
   "cell_type": "markdown",
   "metadata": {},
   "source": [
    "# Compare Fixpoints found by different methods\n",
    "----"
   ]
  },
  {
   "cell_type": "code",
   "execution_count": 1,
   "metadata": {},
   "outputs": [],
   "source": [
    "import pandas as pd\n",
    "import numpy as np\n",
    "import matplotlib.pyplot as plt\n",
    "import seaborn as sns\n",
    "import torch\n",
    "import os"
   ]
  },
  {
   "cell_type": "code",
   "execution_count": 2,
   "metadata": {},
   "outputs": [
    {
     "name": "stdout",
     "output_type": "stream",
     "text": [
      "Running on cpu!\n"
     ]
    }
   ],
   "source": [
    "device = torch.device(\"cuda:0\" if torch.cuda.is_available() else \"cpu\")\n",
    "print('Running on {}!'.format(device))"
   ]
  },
  {
   "cell_type": "code",
   "execution_count": 3,
   "metadata": {},
   "outputs": [
    {
     "data": {
      "text/html": [
       "<style type=\"text/css\">\n",
       "table.dataframe td, table.dataframe th {\n",
       "    border: 1px  black solid !important;\n",
       "  color: black !important;\n",
       "}\n",
       "</style>\n"
      ],
      "text/plain": [
       "<IPython.core.display.HTML object>"
      ]
     },
     "metadata": {},
     "output_type": "display_data"
    }
   ],
   "source": [
    "%%HTML\n",
    "<style type=\"text/css\">\n",
    "table.dataframe td, table.dataframe th {\n",
    "    border: 1px  black solid !important;\n",
    "  color: black !important;\n",
    "}\n",
    "</style>"
   ]
  },
  {
   "cell_type": "code",
   "execution_count": 4,
   "metadata": {},
   "outputs": [],
   "source": [
    "methods = ['graph_optimization','newton_method','broyden_method']"
   ]
  },
  {
   "cell_type": "markdown",
   "metadata": {},
   "source": [
    "### Graph Classification Dataset"
   ]
  },
  {
   "cell_type": "code",
   "execution_count": 6,
   "metadata": {},
   "outputs": [],
   "source": [
    "datasets_graph = ['aids','reddit-binary','imdb-binary','proteins','mutag','enzymes','imdb-multi','msrc_9']"
   ]
  },
  {
   "cell_type": "code",
   "execution_count": null,
   "metadata": {},
   "outputs": [],
   "source": [
    "# read data from file\n",
    "H_graph = []\n",
    "for dataset in datasets_graph:\n",
    "    for method in methods:\n",
    "        path = '../src/outputs/H_' + dataset + '_' + method + '.pkl'\n",
    "        file = os.path.join(os.getcwd(), path)\n",
    "        h = torch.load(file,map_location=device)\n",
    "        H_graph.append(h)"
   ]
  },
  {
   "cell_type": "code",
   "execution_count": null,
   "metadata": {},
   "outputs": [],
   "source": [
    "for i in np.arange(len(H_graph)):\n",
    "    if i % len(methods) == 0:\n",
    "        dataset_num = int(i/len(methods))\n",
    "        dataset_name = datasets_graph[dataset_num]\n",
    "        print('********** '+dataset_name+' **********')\n",
    "        \n",
    "        # check if result is saved before return to main\n",
    "        config_path = '../src/configs/tu_' + dataset_name + '.yaml'\n",
    "        config_file = os.path.join(os.getcwd(), path)\n",
    "        with open(config_file, 'r') as f:\n",
    "            config = yaml.load(f, Loader=yaml.FullLoader)\n",
    "        training_set_len = int(config[dataset_len] * config[train_ratio])\n",
    "        length = training_set_len\n",
    "        for j in np.arange(len(methods)):\n",
    "            if len(H_graph[i+j])<training_set_len:\n",
    "                print(\"{}:Intermediate result of {}! Result for {} graphs available.\".format(dataset_name,methods[j],len(H_graph[i+j])))\n",
    "                length = min(length,len(H_graph[i+j]))\n",
    "        if length==training_set_len:\n",
    "            print(\"All methods successfully finished!\")\n",
    "            \n",
    "        for j in np.arange(len(methods)):\n",
    "            H_graph[i+j] = H_graph[i+j][:length]\n",
    "    \n",
    "        # calculate and plot difference between different methods\n",
    "        for m in np.arange(len(methods)):\n",
    "            for n in np.arange(len(methods)):\n",
    "                if n>m:\n",
    "                    h_diff_mean = np.zeros(length)\n",
    "                    for l in np.arange(length):\n",
    "                        h_diff_mean[l] = np.mean(np.abs(H_graph[i+m][l]-H_graph[i+n][l]))\n",
    "                        df_h_diff = pd.DataFrame({'graph_id': np.arange(length),\n",
    "                                                'h_diff_mean': h_diff_mean})\n",
    "                    \n",
    "                    df_h_diff['h_diff_mean_group'] = pd.cut(df_h_diff['h_diff_mean'],10)\n",
    "                    plt.title(dataset_name+' '+ methods[m]+' vs '+ methods[n])\n",
    "                    sns.countplot(y = 'h_diff_mean_group', data = df_h_diff)\n",
    "                    plt.show()"
   ]
  },
  {
   "cell_type": "code",
   "execution_count": null,
   "metadata": {},
   "outputs": [],
   "source": [
    "num = 4 # how many graphs should be picked randomly \n",
    "# compare H of randomly picked graphs from dataset\n",
    "for i in np.arange(len(H_graph)):\n",
    "    if i % len(methods) == 0:\n",
    "        dataset_num = int(i/len(methods))\n",
    "        dataset_name = datasets_graph[dataset_num]\n",
    "        print('********** '+dataset_name+' **********')\n",
    "        length = len(H_graph[i])\n",
    "        \n",
    "        for j in np.random.randint(0, length, num):\n",
    "            for m in np.arange(len(methods)):\n",
    "                for n in np.arange(len(methods)):\n",
    "                    if n>m:\n",
    "                        h_diff = np.abs(H_graph[i+m][j]-H_graph[i+n][j]).flatten()\n",
    "                        df_h_diff = pd.DataFrame({'feature_id': np.arange(len(h_diff)),\n",
    "                                                    'h_diff': h_diff})\n",
    "                        df_h_diff['h_diff_group'] = pd.cut(df_h_diff['h_diff'],10)\n",
    "                        plt.title(dataset_name + ' graph id:' + str(j)+ methods[m]+' vs. '+methods[n] )\n",
    "                        sns.countplot(y = 'h_diff_group', data = df_h_diff_mean)\n",
    "                        plt.show()"
   ]
  }
 ],
 "metadata": {
  "kernelspec": {
   "display_name": "Python 3",
   "language": "python",
   "name": "python3"
  },
  "language_info": {
   "codemirror_mode": {
    "name": "ipython",
    "version": 3
   },
   "file_extension": ".py",
   "mimetype": "text/x-python",
   "name": "python",
   "nbconvert_exporter": "python",
   "pygments_lexer": "ipython3",
   "version": "3.7.6"
  }
 },
 "nbformat": 4,
 "nbformat_minor": 2
}
