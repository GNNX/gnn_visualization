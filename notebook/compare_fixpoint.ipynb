{
 "cells": [
  {
   "cell_type": "markdown",
   "metadata": {},
   "source": [
    "# Compare Fixpoints found by different Methods\n",
    "----"
   ]
  },
  {
   "cell_type": "code",
   "execution_count": 8,
   "metadata": {},
   "outputs": [],
   "source": [
    "import pandas as pd\n",
    "import numpy as np\n",
    "import torch\n",
    "import os"
   ]
  },
  {
   "cell_type": "code",
   "execution_count": 6,
   "metadata": {},
   "outputs": [
    {
     "name": "stdout",
     "output_type": "stream",
     "text": [
      "Running on cpu!\n"
     ]
    }
   ],
   "source": [
    "device = torch.device(\"cuda:0\" if torch.cuda.is_available() else \"cpu\")\n",
    "print('Running on {}!'.format(device))"
   ]
  },
  {
   "cell_type": "code",
   "execution_count": 35,
   "metadata": {},
   "outputs": [
    {
     "data": {
      "text/html": [
       "<style type=\"text/css\">\n",
       "table.dataframe td, table.dataframe th {\n",
       "    border: 1px  black solid !important;\n",
       "  color: black !important;\n",
       "}\n",
       "</style>\n"
      ],
      "text/plain": [
       "<IPython.core.display.HTML object>"
      ]
     },
     "metadata": {},
     "output_type": "display_data"
    }
   ],
   "source": [
    "# Configure the table style used to print dataframe\n",
    "%%HTML\n",
    "<style type=\"text/css\">\n",
    "table.dataframe td, table.dataframe th {\n",
    "    border: 1px  black solid !important;\n",
    "  color: black !important;\n",
    "}\n",
    "</style>"
   ]
  },
  {
   "cell_type": "code",
   "execution_count": null,
   "metadata": {},
   "outputs": [],
   "source": [
    "methods = ['graph_optimization','node_optimization','newton_method']"
   ]
  },
  {
   "cell_type": "markdown",
   "metadata": {},
   "source": [
    "### Node Classification Datasets"
   ]
  },
  {
   "cell_type": "code",
   "execution_count": 51,
   "metadata": {},
   "outputs": [],
   "source": [
    "datasets_node = ['cora','reddit-self-loop','ppi']"
   ]
  },
  {
   "cell_type": "code",
   "execution_count": 50,
   "metadata": {},
   "outputs": [
    {
     "ename": "FileNotFoundError",
     "evalue": "[Errno 2] No such file or directory: '/Users/luyifan/PycharmProjects/gnn_visualization/notebook/../src/run/H_cora_graph_optimization.pkl'",
     "output_type": "error",
     "traceback": [
      "\u001b[0;31m---------------------------------------------------------------------------\u001b[0m",
      "\u001b[0;31mFileNotFoundError\u001b[0m                         Traceback (most recent call last)",
      "\u001b[0;32m<ipython-input-50-44d780cae47d>\u001b[0m in \u001b[0;36m<module>\u001b[0;34m\u001b[0m\n\u001b[1;32m      4\u001b[0m         \u001b[0mpath\u001b[0m \u001b[0;34m=\u001b[0m \u001b[0;34m'../src/run/H_'\u001b[0m \u001b[0;34m+\u001b[0m \u001b[0mdataset\u001b[0m \u001b[0;34m+\u001b[0m \u001b[0;34m'_'\u001b[0m \u001b[0;34m+\u001b[0m \u001b[0mmethod\u001b[0m \u001b[0;34m+\u001b[0m \u001b[0;34m'.pkl'\u001b[0m\u001b[0;34m\u001b[0m\u001b[0;34m\u001b[0m\u001b[0m\n\u001b[1;32m      5\u001b[0m         \u001b[0mmodel_file\u001b[0m \u001b[0;34m=\u001b[0m \u001b[0mos\u001b[0m\u001b[0;34m.\u001b[0m\u001b[0mpath\u001b[0m\u001b[0;34m.\u001b[0m\u001b[0mjoin\u001b[0m\u001b[0;34m(\u001b[0m\u001b[0mos\u001b[0m\u001b[0;34m.\u001b[0m\u001b[0mgetcwd\u001b[0m\u001b[0;34m(\u001b[0m\u001b[0;34m)\u001b[0m\u001b[0;34m,\u001b[0m \u001b[0mpath\u001b[0m\u001b[0;34m)\u001b[0m\u001b[0;34m\u001b[0m\u001b[0;34m\u001b[0m\u001b[0m\n\u001b[0;32m----> 6\u001b[0;31m         \u001b[0mh\u001b[0m \u001b[0;34m=\u001b[0m \u001b[0mtorch\u001b[0m\u001b[0;34m.\u001b[0m\u001b[0mload\u001b[0m\u001b[0;34m(\u001b[0m\u001b[0mmodel_file\u001b[0m\u001b[0;34m,\u001b[0m\u001b[0mmap_location\u001b[0m\u001b[0;34m=\u001b[0m\u001b[0mdevice\u001b[0m\u001b[0;34m)\u001b[0m\u001b[0;34m.\u001b[0m\u001b[0mnumpy\u001b[0m\u001b[0;34m(\u001b[0m\u001b[0;34m)\u001b[0m\u001b[0;34m\u001b[0m\u001b[0;34m\u001b[0m\u001b[0m\n\u001b[0m\u001b[1;32m      7\u001b[0m         \u001b[0mH_node\u001b[0m\u001b[0;34m.\u001b[0m\u001b[0mappend\u001b[0m\u001b[0;34m(\u001b[0m\u001b[0mh\u001b[0m\u001b[0;34m)\u001b[0m\u001b[0;34m\u001b[0m\u001b[0;34m\u001b[0m\u001b[0m\n",
      "\u001b[0;32m~/opt/anaconda3/lib/python3.7/site-packages/torch/serialization.py\u001b[0m in \u001b[0;36mload\u001b[0;34m(f, map_location, pickle_module, **pickle_load_args)\u001b[0m\n\u001b[1;32m    523\u001b[0m         \u001b[0mpickle_load_args\u001b[0m\u001b[0;34m[\u001b[0m\u001b[0;34m'encoding'\u001b[0m\u001b[0;34m]\u001b[0m \u001b[0;34m=\u001b[0m \u001b[0;34m'utf-8'\u001b[0m\u001b[0;34m\u001b[0m\u001b[0;34m\u001b[0m\u001b[0m\n\u001b[1;32m    524\u001b[0m \u001b[0;34m\u001b[0m\u001b[0m\n\u001b[0;32m--> 525\u001b[0;31m     \u001b[0;32mwith\u001b[0m \u001b[0m_open_file_like\u001b[0m\u001b[0;34m(\u001b[0m\u001b[0mf\u001b[0m\u001b[0;34m,\u001b[0m \u001b[0;34m'rb'\u001b[0m\u001b[0;34m)\u001b[0m \u001b[0;32mas\u001b[0m \u001b[0mopened_file\u001b[0m\u001b[0;34m:\u001b[0m\u001b[0;34m\u001b[0m\u001b[0;34m\u001b[0m\u001b[0m\n\u001b[0m\u001b[1;32m    526\u001b[0m         \u001b[0;32mif\u001b[0m \u001b[0m_is_zipfile\u001b[0m\u001b[0;34m(\u001b[0m\u001b[0mopened_file\u001b[0m\u001b[0;34m)\u001b[0m\u001b[0;34m:\u001b[0m\u001b[0;34m\u001b[0m\u001b[0;34m\u001b[0m\u001b[0m\n\u001b[1;32m    527\u001b[0m             \u001b[0;32mwith\u001b[0m \u001b[0m_open_zipfile_reader\u001b[0m\u001b[0;34m(\u001b[0m\u001b[0mf\u001b[0m\u001b[0;34m)\u001b[0m \u001b[0;32mas\u001b[0m \u001b[0mopened_zipfile\u001b[0m\u001b[0;34m:\u001b[0m\u001b[0;34m\u001b[0m\u001b[0;34m\u001b[0m\u001b[0m\n",
      "\u001b[0;32m~/opt/anaconda3/lib/python3.7/site-packages/torch/serialization.py\u001b[0m in \u001b[0;36m_open_file_like\u001b[0;34m(name_or_buffer, mode)\u001b[0m\n\u001b[1;32m    210\u001b[0m \u001b[0;32mdef\u001b[0m \u001b[0m_open_file_like\u001b[0m\u001b[0;34m(\u001b[0m\u001b[0mname_or_buffer\u001b[0m\u001b[0;34m,\u001b[0m \u001b[0mmode\u001b[0m\u001b[0;34m)\u001b[0m\u001b[0;34m:\u001b[0m\u001b[0;34m\u001b[0m\u001b[0;34m\u001b[0m\u001b[0m\n\u001b[1;32m    211\u001b[0m     \u001b[0;32mif\u001b[0m \u001b[0m_is_path\u001b[0m\u001b[0;34m(\u001b[0m\u001b[0mname_or_buffer\u001b[0m\u001b[0;34m)\u001b[0m\u001b[0;34m:\u001b[0m\u001b[0;34m\u001b[0m\u001b[0;34m\u001b[0m\u001b[0m\n\u001b[0;32m--> 212\u001b[0;31m         \u001b[0;32mreturn\u001b[0m \u001b[0m_open_file\u001b[0m\u001b[0;34m(\u001b[0m\u001b[0mname_or_buffer\u001b[0m\u001b[0;34m,\u001b[0m \u001b[0mmode\u001b[0m\u001b[0;34m)\u001b[0m\u001b[0;34m\u001b[0m\u001b[0;34m\u001b[0m\u001b[0m\n\u001b[0m\u001b[1;32m    213\u001b[0m     \u001b[0;32melse\u001b[0m\u001b[0;34m:\u001b[0m\u001b[0;34m\u001b[0m\u001b[0;34m\u001b[0m\u001b[0m\n\u001b[1;32m    214\u001b[0m         \u001b[0;32mif\u001b[0m \u001b[0;34m'w'\u001b[0m \u001b[0;32min\u001b[0m \u001b[0mmode\u001b[0m\u001b[0;34m:\u001b[0m\u001b[0;34m\u001b[0m\u001b[0;34m\u001b[0m\u001b[0m\n",
      "\u001b[0;32m~/opt/anaconda3/lib/python3.7/site-packages/torch/serialization.py\u001b[0m in \u001b[0;36m__init__\u001b[0;34m(self, name, mode)\u001b[0m\n\u001b[1;32m    191\u001b[0m \u001b[0;32mclass\u001b[0m \u001b[0m_open_file\u001b[0m\u001b[0;34m(\u001b[0m\u001b[0m_opener\u001b[0m\u001b[0;34m)\u001b[0m\u001b[0;34m:\u001b[0m\u001b[0;34m\u001b[0m\u001b[0;34m\u001b[0m\u001b[0m\n\u001b[1;32m    192\u001b[0m     \u001b[0;32mdef\u001b[0m \u001b[0m__init__\u001b[0m\u001b[0;34m(\u001b[0m\u001b[0mself\u001b[0m\u001b[0;34m,\u001b[0m \u001b[0mname\u001b[0m\u001b[0;34m,\u001b[0m \u001b[0mmode\u001b[0m\u001b[0;34m)\u001b[0m\u001b[0;34m:\u001b[0m\u001b[0;34m\u001b[0m\u001b[0;34m\u001b[0m\u001b[0m\n\u001b[0;32m--> 193\u001b[0;31m         \u001b[0msuper\u001b[0m\u001b[0;34m(\u001b[0m\u001b[0m_open_file\u001b[0m\u001b[0;34m,\u001b[0m \u001b[0mself\u001b[0m\u001b[0;34m)\u001b[0m\u001b[0;34m.\u001b[0m\u001b[0m__init__\u001b[0m\u001b[0;34m(\u001b[0m\u001b[0mopen\u001b[0m\u001b[0;34m(\u001b[0m\u001b[0mname\u001b[0m\u001b[0;34m,\u001b[0m \u001b[0mmode\u001b[0m\u001b[0;34m)\u001b[0m\u001b[0;34m)\u001b[0m\u001b[0;34m\u001b[0m\u001b[0;34m\u001b[0m\u001b[0m\n\u001b[0m\u001b[1;32m    194\u001b[0m \u001b[0;34m\u001b[0m\u001b[0m\n\u001b[1;32m    195\u001b[0m     \u001b[0;32mdef\u001b[0m \u001b[0m__exit__\u001b[0m\u001b[0;34m(\u001b[0m\u001b[0mself\u001b[0m\u001b[0;34m,\u001b[0m \u001b[0;34m*\u001b[0m\u001b[0margs\u001b[0m\u001b[0;34m)\u001b[0m\u001b[0;34m:\u001b[0m\u001b[0;34m\u001b[0m\u001b[0;34m\u001b[0m\u001b[0m\n",
      "\u001b[0;31mFileNotFoundError\u001b[0m: [Errno 2] No such file or directory: '/Users/luyifan/PycharmProjects/gnn_visualization/notebook/../src/run/H_cora_graph_optimization.pkl'"
     ]
    }
   ],
   "source": [
    "H_node = []\n",
    "for dataset in datasets_node:\n",
    "    for method in methods:\n",
    "        path = '../src/run/H_' + dataset + '_' + method + '.pkl'\n",
    "        model_file = os.path.join(os.getcwd(), path)\n",
    "        h = torch.load(model_file,map_location=device).numpy()\n",
    "        H_node.append(h)"
   ]
  },
  {
   "cell_type": "code",
   "execution_count": 43,
   "metadata": {},
   "outputs": [
    {
     "ename": "NameError",
     "evalue": "name 'H' is not defined",
     "output_type": "error",
     "traceback": [
      "\u001b[0;31m---------------------------------------------------------------------------\u001b[0m",
      "\u001b[0;31mNameError\u001b[0m                                 Traceback (most recent call last)",
      "\u001b[0;32m<ipython-input-43-7c58d4958537>\u001b[0m in \u001b[0;36m<module>\u001b[0;34m\u001b[0m\n\u001b[1;32m      1\u001b[0m \u001b[0marray_node\u001b[0m \u001b[0;34m=\u001b[0m \u001b[0mnp\u001b[0m\u001b[0;34m.\u001b[0m\u001b[0mzeros\u001b[0m\u001b[0;34m(\u001b[0m\u001b[0;34m[\u001b[0m\u001b[0;36m12\u001b[0m\u001b[0;34m,\u001b[0m\u001b[0mlen\u001b[0m\u001b[0;34m(\u001b[0m\u001b[0mdatasets_node\u001b[0m\u001b[0;34m)\u001b[0m\u001b[0;34m]\u001b[0m\u001b[0;34m)\u001b[0m\u001b[0;34m\u001b[0m\u001b[0;34m\u001b[0m\u001b[0m\n\u001b[0;32m----> 2\u001b[0;31m \u001b[0;32mfor\u001b[0m \u001b[0mi\u001b[0m \u001b[0;32min\u001b[0m \u001b[0mnp\u001b[0m\u001b[0;34m.\u001b[0m\u001b[0marange\u001b[0m\u001b[0;34m(\u001b[0m\u001b[0mlen\u001b[0m\u001b[0;34m(\u001b[0m\u001b[0mH\u001b[0m\u001b[0;34m)\u001b[0m\u001b[0;34m)\u001b[0m\u001b[0;34m:\u001b[0m\u001b[0;34m\u001b[0m\u001b[0;34m\u001b[0m\u001b[0m\n\u001b[0m\u001b[1;32m      3\u001b[0m     \u001b[0;32mif\u001b[0m \u001b[0mi\u001b[0m \u001b[0;34m%\u001b[0m \u001b[0;36m3\u001b[0m \u001b[0;34m==\u001b[0m \u001b[0;36m0\u001b[0m\u001b[0;34m:\u001b[0m\u001b[0;34m\u001b[0m\u001b[0;34m\u001b[0m\u001b[0m\n\u001b[1;32m      4\u001b[0m         \u001b[0mgraph_node_diff\u001b[0m \u001b[0;34m=\u001b[0m \u001b[0mH\u001b[0m\u001b[0;34m[\u001b[0m\u001b[0mi\u001b[0m\u001b[0;34m]\u001b[0m\u001b[0;34m-\u001b[0m\u001b[0mH\u001b[0m\u001b[0;34m[\u001b[0m\u001b[0mi\u001b[0m\u001b[0;34m+\u001b[0m\u001b[0;36m1\u001b[0m\u001b[0;34m]\u001b[0m\u001b[0;34m\u001b[0m\u001b[0;34m\u001b[0m\u001b[0m\n\u001b[1;32m      5\u001b[0m         \u001b[0mgraph_newton_diff\u001b[0m \u001b[0;34m=\u001b[0m \u001b[0mH\u001b[0m\u001b[0;34m[\u001b[0m\u001b[0mi\u001b[0m\u001b[0;34m]\u001b[0m\u001b[0;34m-\u001b[0m\u001b[0mH\u001b[0m\u001b[0;34m[\u001b[0m\u001b[0mi\u001b[0m\u001b[0;34m+\u001b[0m\u001b[0;36m2\u001b[0m\u001b[0;34m]\u001b[0m\u001b[0;34m\u001b[0m\u001b[0;34m\u001b[0m\u001b[0m\n",
      "\u001b[0;31mNameError\u001b[0m: name 'H' is not defined"
     ]
    }
   ],
   "source": [
    "array_node = np.zeros([12,len(datasets_node)])\n",
    "for i in np.arange(len(H_node)):\n",
    "    if i % len(methods) == 0:\n",
    "        graph_node_diff = H_node[i] - H_node[i+1]\n",
    "        graph_newton_diff = H_node[i] - H_node[i+2]\n",
    "        node_newton_diff = H_node[i+1] - H_node[i+2]\n",
    "        col = i % len(methods)\n",
    "        array_node[0,col] = np.sum(np.abs(graph_node_diff))\n",
    "        array_node[1,col] = np.max(np.abs(graph_node_diff))\n",
    "        array_node[2,col] = np.min(np.abs(graph_node_diff))\n",
    "        array_node[3,col] = np.mean(np.abs(graph_node_diff))\n",
    "        array_node[4,col] = np.sum(np.abs(graph_newton_diff))\n",
    "        array_node[5,col] = np.max(np.abs(graph_newton_diff))\n",
    "        array_node[6,col] = np.min(np.abs(graph_newton_diff))\n",
    "        array_node[7,col] = np.mean(np.abs(graph_newton_diff))\n",
    "        array_node[8,col] = np.sum(np.abs(node_newton_diff))\n",
    "        array_node[9,col] = np.max(np.abs(node_newton_diff))\n",
    "        array_node[10,col] = np.min(np.abs(node_newton_diff))\n",
    "        array_node[11,col] = np.mean(np.abs(node_newton_diff))"
   ]
  },
  {
   "cell_type": "code",
   "execution_count": 44,
   "metadata": {},
   "outputs": [
    {
     "data": {
      "text/html": [
       "<div>\n",
       "<style scoped>\n",
       "    .dataframe tbody tr th:only-of-type {\n",
       "        vertical-align: middle;\n",
       "    }\n",
       "\n",
       "    .dataframe tbody tr th {\n",
       "        vertical-align: top;\n",
       "    }\n",
       "\n",
       "    .dataframe thead th {\n",
       "        text-align: right;\n",
       "    }\n",
       "</style>\n",
       "<table border=\"1\" class=\"dataframe\">\n",
       "  <thead>\n",
       "    <tr style=\"text-align: right;\">\n",
       "      <th></th>\n",
       "      <th>Cora</th>\n",
       "      <th>Reddit-self-loop</th>\n",
       "      <th>PPI</th>\n",
       "    </tr>\n",
       "  </thead>\n",
       "  <tbody>\n",
       "    <tr>\n",
       "      <th>sum(|graph_opt - node_opt|)</th>\n",
       "      <td>-0.502905</td>\n",
       "      <td>0.905676</td>\n",
       "      <td>-1.234587</td>\n",
       "    </tr>\n",
       "    <tr>\n",
       "      <th>max(|graph_opt - node_opt|)</th>\n",
       "      <td>0.763427</td>\n",
       "      <td>-1.079684</td>\n",
       "      <td>-0.857247</td>\n",
       "    </tr>\n",
       "    <tr>\n",
       "      <th>min(|graph_opt - node_opt|)</th>\n",
       "      <td>-0.884795</td>\n",
       "      <td>-0.281945</td>\n",
       "      <td>0.694467</td>\n",
       "    </tr>\n",
       "    <tr>\n",
       "      <th>mean(|graph_opt - node_opt|)</th>\n",
       "      <td>-1.038709</td>\n",
       "      <td>0.253383</td>\n",
       "      <td>0.638280</td>\n",
       "    </tr>\n",
       "    <tr>\n",
       "      <th>sum(|graph_opt - newton_method|)</th>\n",
       "      <td>0.914872</td>\n",
       "      <td>-3.122678</td>\n",
       "      <td>-2.148707</td>\n",
       "    </tr>\n",
       "    <tr>\n",
       "      <th>max(|graph_opt - newton_method|)</th>\n",
       "      <td>0.963167</td>\n",
       "      <td>1.158896</td>\n",
       "      <td>1.570450</td>\n",
       "    </tr>\n",
       "    <tr>\n",
       "      <th>min(|graph_opt - newton_method|)</th>\n",
       "      <td>0.349319</td>\n",
       "      <td>-0.299661</td>\n",
       "      <td>1.817100</td>\n",
       "    </tr>\n",
       "    <tr>\n",
       "      <th>mean(|graph_opt - newton_method|)</th>\n",
       "      <td>-0.091786</td>\n",
       "      <td>0.426998</td>\n",
       "      <td>0.562606</td>\n",
       "    </tr>\n",
       "    <tr>\n",
       "      <th>sum(|node_opt - newton_method|)</th>\n",
       "      <td>-0.678382</td>\n",
       "      <td>-0.120444</td>\n",
       "      <td>1.734385</td>\n",
       "    </tr>\n",
       "    <tr>\n",
       "      <th>max(|node_opt - newton_method|)</th>\n",
       "      <td>-0.735617</td>\n",
       "      <td>-1.422577</td>\n",
       "      <td>1.348737</td>\n",
       "    </tr>\n",
       "    <tr>\n",
       "      <th>min(|node_opt - newton_method|)</th>\n",
       "      <td>-0.500599</td>\n",
       "      <td>-0.770759</td>\n",
       "      <td>-0.059491</td>\n",
       "    </tr>\n",
       "    <tr>\n",
       "      <th>mean(|node_opt - newton_method|)</th>\n",
       "      <td>0.240178</td>\n",
       "      <td>-0.294639</td>\n",
       "      <td>0.269485</td>\n",
       "    </tr>\n",
       "  </tbody>\n",
       "</table>\n",
       "</div>"
      ],
      "text/plain": [
       "                                       Cora  Reddit-self-loop       PPI\n",
       "sum(|graph_opt - node_opt|)       -0.502905          0.905676 -1.234587\n",
       "max(|graph_opt - node_opt|)        0.763427         -1.079684 -0.857247\n",
       "min(|graph_opt - node_opt|)       -0.884795         -0.281945  0.694467\n",
       "mean(|graph_opt - node_opt|)      -1.038709          0.253383  0.638280\n",
       "sum(|graph_opt - newton_method|)   0.914872         -3.122678 -2.148707\n",
       "max(|graph_opt - newton_method|)   0.963167          1.158896  1.570450\n",
       "min(|graph_opt - newton_method|)   0.349319         -0.299661  1.817100\n",
       "mean(|graph_opt - newton_method|) -0.091786          0.426998  0.562606\n",
       "sum(|node_opt - newton_method|)   -0.678382         -0.120444  1.734385\n",
       "max(|node_opt - newton_method|)   -0.735617         -1.422577  1.348737\n",
       "min(|node_opt - newton_method|)   -0.500599         -0.770759 -0.059491\n",
       "mean(|node_opt - newton_method|)   0.240178         -0.294639  0.269485"
      ]
     },
     "execution_count": 44,
     "metadata": {},
     "output_type": "execute_result"
    }
   ],
   "source": [
    "index = ['sum(|graph_opt - node_opt|)', 'max(|graph_opt - node_opt|)','min(|graph_opt - node_opt|)','mean(|graph_opt - node_opt|)',\n",
    "      'sum(|graph_opt - newton_method|)', 'max(|graph_opt - newton_method|)','min(|graph_opt - newton_method|)','mean(|graph_opt - newton_method|)',\n",
    "      'sum(|node_opt - newton_method|)', 'max(|node_opt - newton_method|)','min(|node_opt - newton_method|)','mean(|node_opt - newton_method|)']\n",
    "\n",
    "df_node = pd.DataFrame(array_node, index=index, columns=['Cora','Reddit-self-loop','PPI'])\n",
    "df"
   ]
  },
  {
   "cell_type": "markdown",
   "metadata": {},
   "source": [
    "### Graph Classification Dataset"
   ]
  },
  {
   "cell_type": "code",
   "execution_count": 47,
   "metadata": {},
   "outputs": [],
   "source": [
    "datasets_graph = ['aids','reddit-binary','imdb-binary']"
   ]
  },
  {
   "cell_type": "code",
   "execution_count": null,
   "metadata": {},
   "outputs": [],
   "source": [
    "H_graph = []\n",
    "for dataset in datasets_node:\n",
    "    for method in methods:\n",
    "        path = '../src/run/H_' + dataset + '_' + method + '.pkl'\n",
    "        model_file = os.path.join(os.getcwd(), path)\n",
    "        h = torch.load(model_file,map_location=device).numpy()\n",
    "        H_graph.append(h)"
   ]
  },
  {
   "cell_type": "code",
   "execution_count": 49,
   "metadata": {},
   "outputs": [
    {
     "ename": "NameError",
     "evalue": "name 'H_graph' is not defined",
     "output_type": "error",
     "traceback": [
      "\u001b[0;31m---------------------------------------------------------------------------\u001b[0m",
      "\u001b[0;31mNameError\u001b[0m                                 Traceback (most recent call last)",
      "\u001b[0;32m<ipython-input-49-7e86612ff03e>\u001b[0m in \u001b[0;36m<module>\u001b[0;34m\u001b[0m\n\u001b[1;32m      1\u001b[0m \u001b[0marray_graph\u001b[0m \u001b[0;34m=\u001b[0m \u001b[0mnp\u001b[0m\u001b[0;34m.\u001b[0m\u001b[0mzeros\u001b[0m\u001b[0;34m(\u001b[0m\u001b[0;34m[\u001b[0m\u001b[0;36m12\u001b[0m\u001b[0;34m,\u001b[0m\u001b[0mlen\u001b[0m\u001b[0;34m(\u001b[0m\u001b[0mdatasets_graph\u001b[0m\u001b[0;34m)\u001b[0m\u001b[0;34m]\u001b[0m\u001b[0;34m)\u001b[0m\u001b[0;34m\u001b[0m\u001b[0;34m\u001b[0m\u001b[0m\n\u001b[0;32m----> 2\u001b[0;31m \u001b[0;32mfor\u001b[0m \u001b[0mi\u001b[0m \u001b[0;32min\u001b[0m \u001b[0mnp\u001b[0m\u001b[0;34m.\u001b[0m\u001b[0marange\u001b[0m\u001b[0;34m(\u001b[0m\u001b[0mlen\u001b[0m\u001b[0;34m(\u001b[0m\u001b[0mH_graph\u001b[0m\u001b[0;34m)\u001b[0m\u001b[0;34m)\u001b[0m\u001b[0;34m:\u001b[0m\u001b[0;34m\u001b[0m\u001b[0;34m\u001b[0m\u001b[0m\n\u001b[0m\u001b[1;32m      3\u001b[0m     \u001b[0;32mif\u001b[0m \u001b[0mi\u001b[0m \u001b[0;34m%\u001b[0m \u001b[0mlen\u001b[0m\u001b[0;34m(\u001b[0m\u001b[0mmethods\u001b[0m\u001b[0;34m)\u001b[0m \u001b[0;34m==\u001b[0m \u001b[0;36m0\u001b[0m\u001b[0;34m:\u001b[0m\u001b[0;34m\u001b[0m\u001b[0;34m\u001b[0m\u001b[0m\n\u001b[1;32m      4\u001b[0m         \u001b[0mgraph_node_diff\u001b[0m \u001b[0;34m=\u001b[0m \u001b[0mH_graph\u001b[0m\u001b[0;34m[\u001b[0m\u001b[0mi\u001b[0m\u001b[0;34m]\u001b[0m \u001b[0;34m-\u001b[0m \u001b[0mH_graph\u001b[0m\u001b[0;34m[\u001b[0m\u001b[0mi\u001b[0m\u001b[0;34m+\u001b[0m\u001b[0;36m1\u001b[0m\u001b[0;34m]\u001b[0m\u001b[0;34m\u001b[0m\u001b[0;34m\u001b[0m\u001b[0m\n\u001b[1;32m      5\u001b[0m         \u001b[0mgraph_newton_diff\u001b[0m \u001b[0;34m=\u001b[0m \u001b[0mH_graph\u001b[0m\u001b[0;34m[\u001b[0m\u001b[0mi\u001b[0m\u001b[0;34m]\u001b[0m \u001b[0;34m-\u001b[0m \u001b[0mH_graph\u001b[0m\u001b[0;34m[\u001b[0m\u001b[0mi\u001b[0m\u001b[0;34m+\u001b[0m\u001b[0;36m2\u001b[0m\u001b[0;34m]\u001b[0m\u001b[0;34m\u001b[0m\u001b[0;34m\u001b[0m\u001b[0m\n",
      "\u001b[0;31mNameError\u001b[0m: name 'H_graph' is not defined"
     ]
    }
   ],
   "source": [
    "array_graph = np.zeros([12,len(datasets_graph)])\n",
    "for i in np.arange(len(H_graph)):\n",
    "    if i % len(methods) == 0:\n",
    "        graph_node_diff = H_graph[i] - H_graph[i+1]\n",
    "        graph_newton_diff = H_graph[i] - H_graph[i+2]\n",
    "        node_newton_diff = H_graph[i+1] - H_graph[i+2]\n",
    "        col = i % len(methods)\n",
    "        array_graph[0,col] = np.sum(np.abs(graph_node_diff))\n",
    "        array_graph[1,col] = np.max(np.abs(graph_node_diff))\n",
    "        array_graph[2,col] = np.min(np.abs(graph_node_diff))\n",
    "        array_graph[3,col] = np.mean(np.abs(graph_node_diff))\n",
    "        array_graph[4,col] = np.sum(np.abs(graph_newton_diff))\n",
    "        array_graph[5,col] = np.max(np.abs(graph_newton_diff))\n",
    "        array_graph[6,col] = np.min(np.abs(graph_newton_diff))\n",
    "        array_graph[7,col] = np.mean(np.abs(graph_newton_diff))\n",
    "        array_graph[8,col] = np.sum(np.abs(node_newton_diff))\n",
    "        array_graph[9,col] = np.max(np.abs(node_newton_diff))\n",
    "        array_graph[10,col] = np.min(np.abs(node_newton_diff))\n",
    "        array_graph[11,col] = np.mean(np.abs(node_newton_diff))"
   ]
  },
  {
   "cell_type": "code",
   "execution_count": 52,
   "metadata": {},
   "outputs": [
    {
     "data": {
      "text/html": [
       "<div>\n",
       "<style scoped>\n",
       "    .dataframe tbody tr th:only-of-type {\n",
       "        vertical-align: middle;\n",
       "    }\n",
       "\n",
       "    .dataframe tbody tr th {\n",
       "        vertical-align: top;\n",
       "    }\n",
       "\n",
       "    .dataframe thead th {\n",
       "        text-align: right;\n",
       "    }\n",
       "</style>\n",
       "<table border=\"1\" class=\"dataframe\">\n",
       "  <thead>\n",
       "    <tr style=\"text-align: right;\">\n",
       "      <th></th>\n",
       "      <th>AIDS</th>\n",
       "      <th>REDDIT-BINARY</th>\n",
       "      <th>IMDB-BINARY</th>\n",
       "    </tr>\n",
       "  </thead>\n",
       "  <tbody>\n",
       "    <tr>\n",
       "      <th>sum(|graph_opt - node_opt|)</th>\n",
       "      <td>-0.298646</td>\n",
       "      <td>-0.779906</td>\n",
       "      <td>0.044294</td>\n",
       "    </tr>\n",
       "    <tr>\n",
       "      <th>max(|graph_opt - node_opt|)</th>\n",
       "      <td>0.149253</td>\n",
       "      <td>-0.816415</td>\n",
       "      <td>1.199658</td>\n",
       "    </tr>\n",
       "    <tr>\n",
       "      <th>min(|graph_opt - node_opt|)</th>\n",
       "      <td>0.016912</td>\n",
       "      <td>0.779206</td>\n",
       "      <td>-0.639748</td>\n",
       "    </tr>\n",
       "    <tr>\n",
       "      <th>mean(|graph_opt - node_opt|)</th>\n",
       "      <td>-0.997981</td>\n",
       "      <td>-0.988304</td>\n",
       "      <td>-0.354938</td>\n",
       "    </tr>\n",
       "    <tr>\n",
       "      <th>sum(|graph_opt - newton_method|)</th>\n",
       "      <td>-0.210363</td>\n",
       "      <td>0.624753</td>\n",
       "      <td>-1.889123</td>\n",
       "    </tr>\n",
       "    <tr>\n",
       "      <th>max(|graph_opt - newton_method|)</th>\n",
       "      <td>0.588233</td>\n",
       "      <td>1.101451</td>\n",
       "      <td>0.578244</td>\n",
       "    </tr>\n",
       "    <tr>\n",
       "      <th>min(|graph_opt - newton_method|)</th>\n",
       "      <td>-0.663692</td>\n",
       "      <td>2.571156</td>\n",
       "      <td>1.211737</td>\n",
       "    </tr>\n",
       "    <tr>\n",
       "      <th>mean(|graph_opt - newton_method|)</th>\n",
       "      <td>-0.255803</td>\n",
       "      <td>0.315716</td>\n",
       "      <td>0.650475</td>\n",
       "    </tr>\n",
       "    <tr>\n",
       "      <th>sum(|node_opt - newton_method|)</th>\n",
       "      <td>-0.740361</td>\n",
       "      <td>-1.201889</td>\n",
       "      <td>-0.761086</td>\n",
       "    </tr>\n",
       "    <tr>\n",
       "      <th>max(|node_opt - newton_method|)</th>\n",
       "      <td>2.292347</td>\n",
       "      <td>-1.164697</td>\n",
       "      <td>-0.144985</td>\n",
       "    </tr>\n",
       "    <tr>\n",
       "      <th>min(|node_opt - newton_method|)</th>\n",
       "      <td>-0.727756</td>\n",
       "      <td>-0.641110</td>\n",
       "      <td>0.003661</td>\n",
       "    </tr>\n",
       "    <tr>\n",
       "      <th>mean(|node_opt - newton_method|)</th>\n",
       "      <td>-0.192096</td>\n",
       "      <td>-0.622486</td>\n",
       "      <td>0.574839</td>\n",
       "    </tr>\n",
       "  </tbody>\n",
       "</table>\n",
       "</div>"
      ],
      "text/plain": [
       "                                       AIDS  REDDIT-BINARY  IMDB-BINARY\n",
       "sum(|graph_opt - node_opt|)       -0.298646      -0.779906     0.044294\n",
       "max(|graph_opt - node_opt|)        0.149253      -0.816415     1.199658\n",
       "min(|graph_opt - node_opt|)        0.016912       0.779206    -0.639748\n",
       "mean(|graph_opt - node_opt|)      -0.997981      -0.988304    -0.354938\n",
       "sum(|graph_opt - newton_method|)  -0.210363       0.624753    -1.889123\n",
       "max(|graph_opt - newton_method|)   0.588233       1.101451     0.578244\n",
       "min(|graph_opt - newton_method|)  -0.663692       2.571156     1.211737\n",
       "mean(|graph_opt - newton_method|) -0.255803       0.315716     0.650475\n",
       "sum(|node_opt - newton_method|)   -0.740361      -1.201889    -0.761086\n",
       "max(|node_opt - newton_method|)    2.292347      -1.164697    -0.144985\n",
       "min(|node_opt - newton_method|)   -0.727756      -0.641110     0.003661\n",
       "mean(|node_opt - newton_method|)  -0.192096      -0.622486     0.574839"
      ]
     },
     "execution_count": 52,
     "metadata": {},
     "output_type": "execute_result"
    }
   ],
   "source": [
    "df = pd.DataFrame(array_graph, index=ind, columns=['AIDS','REDDIT-BINARY','IMDB-BINARY'])\n",
    "df"
   ]
  }
 ],
 "metadata": {
  "kernelspec": {
   "display_name": "Python 3",
   "language": "python",
   "name": "python3"
  },
  "language_info": {
   "codemirror_mode": {
    "name": "ipython",
    "version": 3
   },
   "file_extension": ".py",
   "mimetype": "text/x-python",
   "name": "python",
   "nbconvert_exporter": "python",
   "pygments_lexer": "ipython3",
   "version": "3.7.6"
  }
 },
 "nbformat": 4,
 "nbformat_minor": 2
}
